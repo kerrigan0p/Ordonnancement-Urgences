{
 "cells": [
  {
   "cell_type": "code",
   "execution_count": 26,
   "metadata": {},
   "outputs": [],
   "source": [
    "from random import choice, randint, random, sample\n",
    "from string import ascii_lowercase\n",
    "from Solid.GeneticAlgorithm import GeneticAlgorithm"
   ]
  },
  {
   "cell_type": "code",
   "execution_count": 20,
   "metadata": {},
   "outputs": [],
   "source": [
    "class Patient():\n",
    "    def __init__(self,id = 0,age=0,sexe=0,patho=0,arrivée=0) -> None:\n",
    "        self.id = id\n",
    "        self.age = age\n",
    "        self.sexe = sexe \n",
    "        self.arrivéeUrgences = arrivée\n",
    "        self.debutSoins = 0\n",
    "        self.patho = patho \n",
    "        self.gravite = int(self.patho/2 + 1) #Arbitraire\n",
    "        self.duree = int(self.patho/3 + 1) #Arbitraire\n",
    "        self.state = 0 #0 Si en attente, 1 sinon"
   ]
  },
  {
   "cell_type": "code",
   "execution_count": 21,
   "metadata": {},
   "outputs": [],
   "source": [
    "class Soignant():\n",
    "    def __init__(self,id,competence) -> None:\n",
    "        self.id = id\n",
    "        self.competences = competence \n",
    "        self.state = 0"
   ]
  },
  {
   "cell_type": "code",
   "execution_count": 22,
   "metadata": {},
   "outputs": [],
   "source": [
    "class Planning():\n",
    "    def __init__(self,liste_soignant,liste_patient,Horizon) -> None:\n",
    "        self.nSoignants = len(liste_soignant)\n",
    "        self.nPatient = len(liste_patient)\n",
    "        self.horizon = Horizon\n",
    "\n",
    "        self.planning = self.generate_planning(liste_soignant,liste_patient)\n",
    "    \n",
    "      \n",
    "    def generate_planning(liste_soignant,liste_patient): \n",
    "        '''\n",
    "        Genère un planning incluant tout les rdvs. Le planning est une matrice Soignant x RDV\n",
    "        Les rdvs sont ajoutés à la suite. Chaque rdv est caractérisé par l'id du patient et le temps de l'intervention.\n",
    "        Ces plannings sont stables \n",
    "        '''\n",
    "        n = len(liste_soignant)\n",
    "        m = len(liste_patient)\n",
    "        plan = []                \n",
    "        pabon = []\n",
    "        while (liste_patient!=[]): #Premier ajout des patients Certains peuvent ne pas être placés. Ajout rapide mais partiel\n",
    "            L = []\n",
    "            to_delete = []\n",
    "            k = 0\n",
    "            for soignant in liste_soignant :\n",
    "                if k <= len(L) : #Dernière boucle \n",
    "                    patient = liste_patient[k]\n",
    "                else : patient = Patient()\n",
    "                k+=1\n",
    "                if patient.patho in soignant.competences : \n",
    "                    L.append(patient)                    \n",
    "                else : \n",
    "                    L.append(Patient())\n",
    "                    pabon.append(patient)\n",
    "            to_delete.append(patient)    \n",
    "            plan.append(L)\n",
    "            for patient in to_delete : liste_patient.remove(patient)\n",
    "\n",
    "        while pabon != [] : #Deuxieme ajout, plus lent mais certains\n",
    "            L = [Patient() for i in range(n)]\n",
    "            to_delete = []\n",
    "            for patient in pabon :                 \n",
    "                for soignant_num in range(n) : \n",
    "                    if (patient.patho in soignant[soignant_num].competences) and (L[soignant_num]==Patient()) : \n",
    "                        L[soignant_num] = patient\n",
    "                        to_delete.append(patient)\n",
    "            plan.append(L)\n",
    "            for patient in to_delete : pabon.remove(patient)            \n",
    "        return plan"
   ]
  },
  {
   "cell_type": "code",
   "execution_count": 29,
   "metadata": {},
   "outputs": [],
   "source": [
    "class Algorithm(GeneticAlgorithm):\n",
    "    \"\"\"\n",
    "    Algo génétique qui cherche à construire un planning optimal\n",
    "    \"\"\"\n",
    "    def _initial_population(self, nPatients, nSoignants, taillePop):\n",
    "        #Initialisation d'une population initiale de plannings\n",
    "\n",
    "        #Crée une population initiale de patients\n",
    "        rand_list_patients = [Patient(id,randint(18,80),randint(0,1),randint(0,10),0) for id in range(nPatients)]\n",
    "        rand_list_soignants = [Soignant(id, sample(list(range(0,11)))) for id in range(nSoignants)]\n",
    "        \n",
    "        return [Planning(shuffle(rand_list_patients), rand_list_soignants) for _ in range(taillePop)]\n",
    "\n",
    "    def _fitness(self, planning):\n",
    "        #Evaluation de l'optimalité d'un planning en calculant la somme des temps de prise en charge x la gravité\n",
    "        sum = 0\n",
    "        tps = 0\n",
    "        p = planning.planning\n",
    "\n",
    "        for i in len(p):\n",
    "            tps += p[i].duree\n",
    "            sum += p[i].gravité * tps\n",
    "\n",
    "        return 1/(sum + 1)\n",
    "\n",
    "    def _crossover(self, parent1, parent2):\n",
    "        #Mélange aléatoire entre 2 plannings\n",
    "        return \n",
    "\n",
    "    def _mutate(self, member):\n",
    "        #Mutation aléatoire d'un planning\n",
    "        return "
   ]
  }
 ],
 "metadata": {
  "kernelspec": {
   "display_name": "base",
   "language": "python",
   "name": "python3"
  },
  "language_info": {
   "codemirror_mode": {
    "name": "ipython",
    "version": 3
   },
   "file_extension": ".py",
   "mimetype": "text/x-python",
   "name": "python",
   "nbconvert_exporter": "python",
   "pygments_lexer": "ipython3",
   "version": "3.9.18"
  }
 },
 "nbformat": 4,
 "nbformat_minor": 2
}
